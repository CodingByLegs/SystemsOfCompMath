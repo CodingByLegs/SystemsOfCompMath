{
 "cells": [
  {
   "cell_type": "markdown",
   "metadata": {},
   "source": [
    "# Нелинейный метод наименьших квадратов\n",
    "## Задача.\n",
    "Нелинейным методом наименьших квадратов построить модели вида: \n",
    "$\n",
    "y = \\beta_1 e^{-\\beta_2 x}\n",
    "\\qquad\n",
    "\\mbox{и}\n",
    "\\qquad\n",
    "y = \\beta_1 e^{\\frac{\\beta_2}{x+\\beta_3}}\n",
    "$  \n",
    "для данных, приведенных в таблице\n",
    "```\n",
    "  x         y    \n",
    "----------------                \n",
    " 50      347804    \n",
    " 55       28610    \n",
    " 60       23650    \n",
    " 65       19630    \n",
    " 70       16370    \n",
    " 75       13720    \n",
    " 80       11540    \n",
    " 85        9744    \n",
    " 90        8261    \n",
    " 95        7030    \n",
    "100        6005    \n",
    "105        5147    \n",
    "110        4427    \n",
    "115        3820    \n",
    "120        3307    \n",
    "125        2872    \n",
    "```\n",
    "Найти общую ошибку в каждом из этих случаев и сравнить результаты."
   ]
  },
  {
   "cell_type": "markdown",
   "metadata": {},
   "source": [
    "## Решение.\n",
    "Решение стоит начать с пояснения метода наименьших квадратов (МНК).  \n",
    "Рассмотрим его относительно нашей задачи.  \n",
    "Каждая функция дает систему из 16 уравнений вида:\n",
    "\\begin{equation*}\n",
    " \\begin{cases}\n",
    "   y_1 = \\beta_1 e^{-\\beta_2 x_1}\\\\\n",
    "   y_2 = \\beta_1 e^{-\\beta_2 x_2}\\\\\n",
    "    ......\\\\\n",
    "    y_{16} = \\beta_1 e^{-\\beta_2 x_{16}}\\\\\n",
    " \\end{cases}\n",
    "\\qquad\n",
    "\\mbox{и}\n",
    "\\qquad\n",
    "\\begin{cases}\n",
    "   y_1 = \\beta_1 e^{\\frac{\\beta_2}{x_1+\\beta_3}}\\\\\n",
    "   y_2 = \\beta_1 e^{\\frac{\\beta_2}{x_2+\\beta_3}}\\\\\n",
    "    ......\\\\\n",
    "   y_{16} = \\beta_1 e^{\\frac{\\beta_2}{x_{16}+\\beta_3}}\n",
    " \\end{cases}\n",
    "\\end{equation*}\n",
    "Несложно заметить, что каждая из систем уравнений является нелинейной, отсюда можно понять, что единственного (точного) \n",
    "решения систем не существует$^{[1]}$.\n",
    "Но можно подобрать такие значения, которые наиболее близко будут аппроксимировать наши системы.\n",
    "Оговорюсь, что системы я рассматриваю по отдельности. Для того, чтобы понять,\n",
    "насколько хорошо те или иные решения аппроксимируют нашу систмеу, и используется метод наименьших квадратов  \n",
    "Пусть $f_i(\\beta, x_i) = \\beta_1 e^{-\\beta_2 x_i}, i = 1,2..16$, тогда МНК будет выглядит слеущим образом:  \n",
    "<tex>$$\\sum_{i=1}^{16} (y_i - f_i(\\beta, x_i))^2 \\to \\min_{\\beta}$$</tex>  \n",
    "### Решение систем нелинейных уравнений\n",
    "Аналитически такие системы нельзя решить в общем виде, поэтому для них ищут приближенной решение с помощью численных методов$^{[1]}$. \n",
    "Одним из таких явялется алгоритм Гаусса-Ньютона. Он итеративно находит значения переменных, которые минимизируют сумму квадратов.\n",
    "Сначала задается начальное приближение $\\beta^{(0)}$, затем происходит итераивное вычисление следущих значений по формуле: \n",
    "$$\\beta^{(k+1)} = \\beta^{(k)} - (J^T(r)*J(r))^{-1}*J^T(r)*r(\\beta^{(k)})$$\n",
    "Где, $J(r)$ - матрица Якоби для нашей функции  \n",
    "$r(\\beta) = y - f(\\beta, x)$ то есть $r(\\beta)$ - это вектор-столлбец отклонений функции от заданного значения  \n",
    "$k$ - номер итерации"
   ]
  },
  {
   "cell_type": "code",
   "execution_count": 231,
   "metadata": {},
   "outputs": [],
   "source": [
    "# подключаем библеотеки\n",
    "import numpy as np  # для использования массивов\n",
    "from math import *  # для числа e\n",
    "import matplotlib.pyplot as plt # для построения графиков\n",
    "import scipy.linalg as linalg # дает возможность получить обратную матрицу"
   ]
  },
  {
   "cell_type": "code",
   "execution_count": 232,
   "metadata": {},
   "outputs": [],
   "source": [
    "# наша функция для построения графика\n",
    "def func(x, b):\n",
    "    return b[0,0]*exp(1)**(-1*b[1,0]*x)\n",
    "# подсчет ошибки методом наименьших квадратов\n",
    "def LSM(b):\n",
    "    i = 0\n",
    "    res = 0\n",
    "    while i < 16:\n",
    "        res += (-yT[i] + b[0,0]*exp(-b[1,0]*xT[i]))**2 \n",
    "        i += 1\n",
    "    return res\n",
    "# вектор-столлбец отклонений функции от заданного значения\n",
    "def r(b):\n",
    "    res = np.zeros([16, 1])\n",
    "    i = 0\n",
    "    while i < 16:\n",
    "        res[i,0] = -yT[i] + b[0,0]*exp(-b[1,0]*xT[i])\n",
    "        i += 1\n",
    "    return res\n",
    "# подсчет матрици Якоба\n",
    "def jac(b):\n",
    "    res = np.zeros([16,2])\n",
    "    i = 0\n",
    "    while i < 16:\n",
    "        res[i, :] = exp(1)**(-b[1, 0]*xT[i]), -xT[i]*b[0, 0]*b[1, 0]*exp(1)**(b[1, 0]*xT[i])\n",
    "        i += 1\n",
    "    return res\n",
    "# алгоритм Гаусса-Ньютона\n",
    "def gaus_newton(b): \n",
    "    res = b - linalg.inv(jac(b).transpose() @ jac(b)) @ jac(b).transpose() @ r(b)\n",
    "    return res"
   ]
  },
  {
   "cell_type": "code",
   "execution_count": 233,
   "metadata": {},
   "outputs": [
    {
     "name": "stdout",
     "output_type": "stream",
     "text": [
      "[[2.01101452e+05]\n",
      " [3.55200082e-02]]\n"
     ]
    },
    {
     "data": {
      "text/plain": [
       "<matplotlib.legend.Legend at 0x249f998bfc8>"
      ]
     },
     "execution_count": 233,
     "metadata": {},
     "output_type": "execute_result"
    },
    {
     "data": {
      "image/png": "[encoded data removed]",
      "text/plain": [
       "<Figure size 432x288 with 1 Axes>"
      ]
     },
     "metadata": {
      "needs_background": "light"
     },
     "output_type": "display_data"
    }
   ],
   "source": [
    "# задаем стартовые параметры\n",
    "yT = [34804, 28610, 23650, 19630, 16370, 13720, 11540, 9744, 8261, 7030, 6005, 5147, 4427, 3820, 3307, 2872]\n",
    "xT = np.arange(50, 130, 5)\n",
    "beta = np.array([[1000], [0.05]])\n",
    "betaBest = np.zeros([2,1])\n",
    "toFindErr = np.zeros([2])\n",
    "j  = 0 \n",
    "while True:\n",
    "    beta = gaus_newton(beta)\n",
    "    j += 1\n",
    "    if LSM(beta) < LSM(betaBest):  # после нахождения новго значения проверяем, лушче ли оно прошлого\n",
    "        betaBest = beta  # если лучше, то записываем\n",
    "        jNow = j\n",
    "    else:  # иначе считаем, как давно мы записывали прошлое значение\n",
    "        if j - jNow > j / 10:  # если с тех пор прошло относительно много иетраций,\n",
    "            beta = betaBest  # то мы уже нашли лучшее решение и нужно выходить\n",
    "            break\n",
    "print(beta)\n",
    "toFindErr[0] = beta[0,0]  # для красивого отображения далее\n",
    "toFindErr[1] = beta[1,0]\n",
    "plt.plot(xT, func(xT, beta), label = 'первое уравнение')\n",
    "plt.plot(xT,yT, 'o')\n",
    "plt.grid()\n",
    "plt.legend()"
   ]
  },
  {
   "cell_type": "markdown",
   "metadata": {},
   "source": [
    "Как видно на графике, алгоритм Гаусса-Ньютона дал достаточно точные значения для $\\beta$  \n",
    "Однако так было не сразу, так как этот алгоритм (как и многие другие), очень сильно зависит от стартовых парматеров, то\n",
    "если задать $\\beta_1, \\beta_2$ равные 1000 и 0.02, то решение будет сильно искажено.  "
   ]
  },
  {
   "cell_type": "code",
   "execution_count": 234,
   "metadata": {},
   "outputs": [
    {
     "name": "stdout",
     "output_type": "stream",
     "text": [
      "[[6.49227121e+09]\n",
      " [2.38914613e-01]]\n"
     ]
    },
    {
     "data": {
      "text/plain": [
       "<matplotlib.legend.Legend at 0x249f998bc48>"
      ]
     },
     "execution_count": 234,
     "metadata": {},
     "output_type": "execute_result"
    },
    {
     "data": {
      "image/png": "[encoded data removed]",
      "text/plain": [
       "<Figure size 432x288 with 1 Axes>"
      ]
     },
     "metadata": {
      "needs_background": "light"
     },
     "output_type": "display_data"
    }
   ],
   "source": [
    "beta = np.array([[1000], [0.02]])\n",
    "betaBest = np.zeros([2,1])\n",
    "j  = 0 \n",
    "while True:\n",
    "    beta = gaus_newton(beta)\n",
    "    j += 1\n",
    "    if LSM(beta) < LSM(betaBest):  # после нахождения новго значения проверяем, лушче ли оно прошлого\n",
    "        betaBest = beta  # если лучше, то записываем\n",
    "        jNow = j\n",
    "    else:  # иначе считаем, как давно мы записывали прошлое значение\n",
    "        if j - jNow > j / 10 + 10:  # если с тех пор прошло относительно много иетераций,\n",
    "            beta = betaBest  # то мы уже нашли лучшее решение и нужно выходить\n",
    "            break\n",
    "print(beta)\n",
    "plt.plot(xT, func(xT, beta), label = 'первое уравнение')\n",
    "plt.plot(xT,yT, 'o')\n",
    "plt.grid()\n",
    "plt.legend()"
   ]
  },
  {
   "cell_type": "markdown",
   "metadata": {},
   "source": [
    "Таким образом гланым недостатком стала необходимость, достаточно точно подобрать статовые значения. Если для первой функции \n",
    "с двумя неизвестными мне это удалось, то для другой - нет"
   ]
  },
  {
   "cell_type": "code",
   "execution_count": 235,
   "metadata": {},
   "outputs": [],
   "source": [
    "def func(x, b):\n",
    "    return b[0,0]*exp(1)**(b[1,0]/(x+b[2,0]))\n",
    "def LSM(b):\n",
    "    i = 0\n",
    "    res = 0\n",
    "    while i < 16:\n",
    "        res += (-yT[i] + b[0,0]*exp(1)**(b[1,0] / (xT[i] + b[2,0])))**2\n",
    "        i += 1\n",
    "    return res\n",
    "def r(b):\n",
    "    res = np.zeros([16, 1])\n",
    "    i = 0\n",
    "    while i < 16:\n",
    "        res[i, 0] = -yT[i] + b[0,0]*exp(1)**(b[1,0] / (xT[i] + b[2,0]))\n",
    "        i += 1\n",
    "    return res\n",
    "def jac(b):\n",
    "    i = 0\n",
    "    res = np.zeros([16, 3])\n",
    "    while i < 16:\n",
    "        res[i, 0] = exp(1)**(b[1,0] / (xT[i] + b[2,0]))\n",
    "        res[i, 1] = (b[0,0] * exp(1)**(b[1,0]/(xT[i] + b[2,0]))) / (xT[i] + b[2,0])\n",
    "        res[i, 2] = -((b[0,0] * b[1,0] * exp(1)**(b[1,0] / (xT[i] + b[2,0]))) / (xT[i] + b[2,0])**2)\n",
    "        i += 1\n",
    "    return res\n",
    "def newton(b):\n",
    "    res = b - (linalg.inv(jac(b).transpose() @ jac(b)) @ jac(b).transpose() @ r(b))\n",
    "    return res"
   ]
  },
  {
   "cell_type": "code",
   "execution_count": 236,
   "metadata": {},
   "outputs": [
    {
     "name": "stdout",
     "output_type": "stream",
     "text": [
      "[[2.27373762e-02]\n",
      " [4.47979271e+03]\n",
      " [3.04865258e+02]]\n"
     ]
    },
    {
     "data": {
      "text/plain": [
       "<matplotlib.legend.Legend at 0x249f99ffec8>"
      ]
     },
     "execution_count": 236,
     "metadata": {},
     "output_type": "execute_result"
    },
    {
     "data": {
      "image/png": "[encoded data removed]",
      "text/plain": [
       "<Figure size 432x288 with 1 Axes>"
      ]
     },
     "metadata": {
      "needs_background": "light"
     },
     "output_type": "display_data"
    }
   ],
   "source": [
    "betaBest = np.zeros([3,1])\n",
    "beta = np.array([[0.005], [5000], [280]])  # значения достаточно близкие к \"финальным\"\n",
    "j = 0\n",
    "while True:   #\n",
    "    beta = gaus_newton(beta)\n",
    "    j += 1\n",
    "    if LSM(beta) < LSM(betaBest):\n",
    "        betaBest = beta\n",
    "        jNow = j\n",
    "    else:\n",
    "        if j - jNow > j / 10 + 10:\n",
    "            beta = betaBest\n",
    "            break\n",
    "print(beta)\n",
    "plt.plot(xT, func(xT, beta), label = 'второе уравнение')\n",
    "plt.plot(xT,yT, 'o')\n",
    "plt.grid()\n",
    "plt.legend()"
   ]
  },
  {
   "cell_type": "markdown",
   "metadata": {},
   "source": [
    "Как видно, функция была аппроксимирована плохо, то есть алгоритм Гаусса-Ньютона не сошелся. Что делать в этом случае?  \n",
    "Можно продолжить более отчно подбирать значения, но мне посоветовали другой способ решения.  \n",
    "### Решение с приминением библеотеки scipy.optimize\n",
    "Есть такая прекрасная библеотека scipy.optimize, в которой етсь функция curve_fit$^{[2]}$. Эта функция использует метод \n",
    "наименьших квадратов, чтобы аппроксимировать функцию. Возвращает два массива: popt - одномерный массив оптимальных значений \n",
    "неизвестных и pcov - двумерный массив, который нам не понадобится."
   ]
  },
  {
   "cell_type": "code",
   "execution_count": 237,
   "metadata": {},
   "outputs": [
    {
     "name": "stderr",
     "output_type": "stream",
     "text": [
      "C:\\ProgramData\\Anaconda3\\lib\\site-packages\\scipy\\optimize\\minpack.py:808: OptimizeWarning: Covariance of the parameters could not be estimated\n",
      "  category=OptimizeWarning)\n"
     ]
    },
    {
     "ename": "RuntimeError",
     "evalue": "Optimal parameters not found: Number of calls to function has reached maxfev = 800.",
     "output_type": "error",
     "traceback": [
      "\u001b[1;31m---------------------------------------------------------------------------\u001b[0m",
      "\u001b[1;31mRuntimeError\u001b[0m                              Traceback (most recent call last)",
      "\u001b[1;32m<ipython-input-237-0870ceb077ac>\u001b[0m in \u001b[0;36m<module>\u001b[1;34m\u001b[0m\n\u001b[0;32m      5\u001b[0m     \u001b[1;32mreturn\u001b[0m \u001b[0mb1\u001b[0m\u001b[1;33m*\u001b[0m\u001b[0mexp\u001b[0m\u001b[1;33m(\u001b[0m\u001b[1;36m1\u001b[0m\u001b[1;33m)\u001b[0m\u001b[1;33m**\u001b[0m\u001b[1;33m(\u001b[0m\u001b[0mb2\u001b[0m\u001b[1;33m/\u001b[0m\u001b[1;33m(\u001b[0m\u001b[0mx\u001b[0m\u001b[1;33m+\u001b[0m\u001b[0mb3\u001b[0m\u001b[1;33m)\u001b[0m\u001b[1;33m)\u001b[0m\u001b[1;33m\u001b[0m\u001b[1;33m\u001b[0m\u001b[0m\n\u001b[0;32m      6\u001b[0m \u001b[0mres\u001b[0m\u001b[1;33m,\u001b[0m \u001b[0mwaste\u001b[0m \u001b[1;33m=\u001b[0m \u001b[0mcurve_fit\u001b[0m\u001b[1;33m(\u001b[0m\u001b[0mfun\u001b[0m\u001b[1;33m,\u001b[0m \u001b[0mxT\u001b[0m\u001b[1;33m,\u001b[0m \u001b[0myT\u001b[0m\u001b[1;33m)\u001b[0m\u001b[1;33m\u001b[0m\u001b[1;33m\u001b[0m\u001b[0m\n\u001b[1;32m----> 7\u001b[1;33m \u001b[0mres1\u001b[0m\u001b[1;33m,\u001b[0m \u001b[0mwaste\u001b[0m \u001b[1;33m=\u001b[0m \u001b[0mcurve_fit\u001b[0m\u001b[1;33m(\u001b[0m\u001b[0mfun1\u001b[0m\u001b[1;33m,\u001b[0m \u001b[0mxT\u001b[0m\u001b[1;33m,\u001b[0m \u001b[0myT\u001b[0m\u001b[1;33m)\u001b[0m\u001b[1;33m\u001b[0m\u001b[1;33m\u001b[0m\u001b[0m\n\u001b[0m\u001b[0;32m      8\u001b[0m \u001b[0mprint\u001b[0m\u001b[1;33m(\u001b[0m\u001b[0mres\u001b[0m\u001b[1;33m)\u001b[0m\u001b[1;33m\u001b[0m\u001b[1;33m\u001b[0m\u001b[0m\n\u001b[0;32m      9\u001b[0m \u001b[0mprint\u001b[0m\u001b[1;33m(\u001b[0m\u001b[0mres1\u001b[0m\u001b[1;33m)\u001b[0m\u001b[1;33m\u001b[0m\u001b[1;33m\u001b[0m\u001b[0m\n",
      "\u001b[1;32mC:\\ProgramData\\Anaconda3\\lib\\site-packages\\scipy\\optimize\\minpack.py\u001b[0m in \u001b[0;36mcurve_fit\u001b[1;34m(f, xdata, ydata, p0, sigma, absolute_sigma, check_finite, bounds, method, jac, **kwargs)\u001b[0m\n\u001b[0;32m    766\u001b[0m         \u001b[0mcost\u001b[0m \u001b[1;33m=\u001b[0m \u001b[0mnp\u001b[0m\u001b[1;33m.\u001b[0m\u001b[0msum\u001b[0m\u001b[1;33m(\u001b[0m\u001b[0minfodict\u001b[0m\u001b[1;33m[\u001b[0m\u001b[1;34m'fvec'\u001b[0m\u001b[1;33m]\u001b[0m \u001b[1;33m**\u001b[0m \u001b[1;36m2\u001b[0m\u001b[1;33m)\u001b[0m\u001b[1;33m\u001b[0m\u001b[1;33m\u001b[0m\u001b[0m\n\u001b[0;32m    767\u001b[0m         \u001b[1;32mif\u001b[0m \u001b[0mier\u001b[0m \u001b[1;32mnot\u001b[0m \u001b[1;32min\u001b[0m \u001b[1;33m[\u001b[0m\u001b[1;36m1\u001b[0m\u001b[1;33m,\u001b[0m \u001b[1;36m2\u001b[0m\u001b[1;33m,\u001b[0m \u001b[1;36m3\u001b[0m\u001b[1;33m,\u001b[0m \u001b[1;36m4\u001b[0m\u001b[1;33m]\u001b[0m\u001b[1;33m:\u001b[0m\u001b[1;33m\u001b[0m\u001b[1;33m\u001b[0m\u001b[0m\n\u001b[1;32m--> 768\u001b[1;33m             \u001b[1;32mraise\u001b[0m \u001b[0mRuntimeError\u001b[0m\u001b[1;33m(\u001b[0m\u001b[1;34m\"Optimal parameters not found: \"\u001b[0m \u001b[1;33m+\u001b[0m \u001b[0merrmsg\u001b[0m\u001b[1;33m)\u001b[0m\u001b[1;33m\u001b[0m\u001b[1;33m\u001b[0m\u001b[0m\n\u001b[0m\u001b[0;32m    769\u001b[0m     \u001b[1;32melse\u001b[0m\u001b[1;33m:\u001b[0m\u001b[1;33m\u001b[0m\u001b[1;33m\u001b[0m\u001b[0m\n\u001b[0;32m    770\u001b[0m         \u001b[1;31m# Rename maxfev (leastsq) to max_nfev (least_squares), if specified.\u001b[0m\u001b[1;33m\u001b[0m\u001b[1;33m\u001b[0m\u001b[1;33m\u001b[0m\u001b[0m\n",
      "\u001b[1;31mRuntimeError\u001b[0m: Optimal parameters not found: Number of calls to function has reached maxfev = 800."
     ]
    }
   ],
   "source": [
    "from scipy.optimize import curve_fit\n",
    "def fun(x, b1, b2):\n",
    "    return b1*exp(1)**(-1*b2*x)\n",
    "def fun1(x, b1, b2, b3):\n",
    "    return b1*exp(1)**(b2/(x+b3))\n",
    "res, waste = curve_fit(fun, xT, yT)\n",
    "res1, waste = curve_fit(fun1, xT, yT)\n",
    "print(res)\n",
    "print(res1)\n",
    "plt.plot(xT,yT, 'o')\n",
    "plt.plot(xT, fun(xT, *res), label = 'первое уравнение')\n",
    "plt.plot(xT, fun1(xT, *res1), label = 'второе уравнение')\n",
    "plt.grid()\n",
    "plt.legend()"
   ]
  },
  {
   "cell_type": "markdown",
   "metadata": {},
   "source": [
    "Но и тут не все просто. У первой функции значения расчитываются неверно, а вторая выдает ошибку. Для первой функции нужно \n",
    "задать начальное приближение вручную, они у нас как раз есть.  \n",
    "Для второй необходимо увеличить максимальное кол-во итераций. Опытным путем было выялено, что это число - 17500"
   ]
  },
  {
   "cell_type": "code",
   "execution_count": 238,
   "metadata": {},
   "outputs": [
    {
     "name": "stdout",
     "output_type": "stream",
     "text": [
      "[2.02261435e+05 3.55594786e-02]\n",
      "[6.24484526e-03 6.08987471e+03 3.42051184e+02]\n"
     ]
    },
    {
     "data": {
      "text/plain": [
       "<matplotlib.legend.Legend at 0x249f9883d88>"
      ]
     },
     "execution_count": 238,
     "metadata": {},
     "output_type": "execute_result"
    },
    {
     "data": {
      "image/png": "[encoded data removed]",
      "text/plain": [
       "<Figure size 432x288 with 1 Axes>"
      ]
     },
     "metadata": {
      "needs_background": "light"
     },
     "output_type": "display_data"
    }
   ],
   "source": [
    "start_data = [1000, 0.05]  # добавляем начальное приближение\n",
    "def fun(x, b1, b2):\n",
    "    return b1*exp(1)**(-b2*x)\n",
    "def fun1(x, b1, b2, b3):\n",
    "    return b1*exp(1)**(b2/(x+b3))\n",
    "res, waste = curve_fit(fun, xT, yT, start_data)\n",
    "res1, waste = curve_fit(fun1, xT, yT, maxfev = 17500) # прописываем максимальное кол-во итераций\n",
    "print(res)\n",
    "print(res1)\n",
    "plt.plot(xT,yT, 'o')\n",
    "plt.plot(xT, fun(xT, *res), label = 'первое уравнение')\n",
    "plt.plot(xT, fun1(xT, *res1), label = 'второе уравнение')\n",
    "plt.grid()\n",
    "plt.legend()"
   ]
  },
  {
   "cell_type": "markdown",
   "metadata": {},
   "source": [
    "Как видно, обе функции были хорошо потсроены. Поэтому можно перейти к нахождению ощей ошибки в каждом из случаев."
   ]
  },
  {
   "cell_type": "markdown",
   "metadata": {},
   "source": [
    "#### Поиск общей ошибки\n",
    "Так как был использован МНК, то стоит искать средний квадрат ошибки$^{[3]}$. В контексте нашей задачи это будет выглядеть так:\n",
    "$$\\frac{1}{16}\\sum_{i=1}^{16} \\left(f_i(\\beta, x_i) - y_i \\strut\\right)^2$$ "
   ]
  },
  {
   "cell_type": "code",
   "execution_count": 239,
   "metadata": {},
   "outputs": [
    {
     "name": "stdout",
     "output_type": "stream",
     "text": [
      "Общая ошибка первой функции при использовании алгоритма Гаусса-Ньютона - 122814.78083625017\n",
      "Общая ошибка первой функции при использовании функции curve_fit - 125559.70032092482\n",
      "Общая ошибка второй функции при использовании функции curve_fit - 8.841784846904305\n"
     ]
    }
   ],
   "source": [
    "# считаем\n",
    "sum1 = 0\n",
    "sum2 = 0\n",
    "sum3 = 0\n",
    "for i in range(0,16):\n",
    "    sum1 += (fun(xT[i], *res) -yT[i])**2\n",
    "for i in range(0,16):\n",
    "    sum2 += (fun(xT[i], *toFindErr) -yT[i])**2\n",
    "for i in range(0,16):\n",
    "    sum3 += (fun1(xT[i], *res1) -yT[i])**2    \n",
    "sum1 /= 16\n",
    "sum2 /= 16\n",
    "sum3 /= 16\n",
    "print(\"Общая ошибка первой функции при использовании алгоритма Гаусса-Ньютона -\", sum1)\n",
    "print(\"Общая ошибка первой функции при использовании функции curve_fit -\", sum2)\n",
    "print(\"Общая ошибка второй функции при использовании функции curve_fit -\", sum3)"
   ]
  },
  {
   "cell_type": "markdown",
   "metadata": {},
   "source": [
    "#### Подведение итогов\n",
    "Результаты меня очень удивили.  \n",
    "1. Ошибка первой функции в более чем в 15'000 раз больше чем ошибка второй, но при этом они \n",
    "почти не отличаются на графике, а это значит, что общая ошибка может быть очень большой, но при этом не сильно влиять на \n",
    "правильность аппроксимации функции и ее вид.  \n",
    "2. Разница между алгоритмом Гаусса-Ньютона и функцией curve_fit незначительна."
   ]
  },
  {
   "cell_type": "markdown",
   "metadata": {},
   "source": [
    "### Литература\n",
    "1. https://habr.com/ru/post/419453/  \n",
    "2. https://docs.scipy.org/doc/scipy/reference/generated/scipy.optimize.curve_fit.html  \n",
    "3. Лекция №7 https://drive.google.com/file/d/1Ib7ouQQatDTVS0_FzN7F8cjIdcWVOsjz/view"
   ]
  }
 ],
 "metadata": {
  "kernelspec": {
   "display_name": "Python 3",
   "language": "python",
   "name": "python3"
  },
  "language_info": {
   "codemirror_mode": {
    "name": "ipython",
    "version": 3
   },
   "file_extension": ".py",
   "mimetype": "text/x-python",
   "name": "python",
   "nbconvert_exporter": "python",
   "pygments_lexer": "ipython3",
   "version": "3.7.6"
  }
 },
 "nbformat": 4,
 "nbformat_minor": 4
}
